{
 "cells": [
  {
   "cell_type": "markdown",
   "id": "7626c37b",
   "metadata": {},
   "source": [
    "# 2차 라우터"
   ]
  },
  {
   "cell_type": "code",
   "execution_count": null,
   "id": "24f79783",
   "metadata": {},
   "outputs": [],
   "source": [
    "# routers/rag_handoff_router.py (예시)\n",
    "RAG_KEYWORDS = [\"어떻게\", \"무엇을\", \"정책\", \"혜택\", \"절차\", \"방법\", \"기간\", \"대상\"]\n",
    "HANDOFF_KEYWORDS = [\"불만\", \"문제\", \"상담\", \"접수\", \"신고\", \"긴급\", \"담당자\"]\n",
    "\n",
    "def route_to_rag_or_handoff(state: GraphState) -> str:\n",
    "    question = state[\"question\"].lower()\n",
    "    has_rag_keyword = any(kw in question for kw in RAG_KEYWORDS)\n",
    "    has_handoff_keyword = any(kw in question for kw in HANDOFF_KEYWORDS)\n",
    "\n",
    "    if has_handoff_keyword:\n",
    "        return \"handoff\"  # 인간 담당자 이관\n",
    "    elif has_rag_keyword:\n",
    "        return \"rag\"      # RAG 엔진으로\n",
    "    else:\n",
    "        # RAG 키워드 없을 시 기본값: RAG로 처리 (혹은 HANDOFF로 변경 가능)\n",
    "        return \"rag\" "
   ]
  },
  {
   "cell_type": "code",
   "execution_count": null,
   "id": "973ee6b5",
   "metadata": {},
   "outputs": [],
   "source": [
    "# routers/rag_handoff_router.py\n",
    "from typing import Dict\n",
    "from langgraph.graph import GraphState  # 공유 state 파일 import (팀과 공유)\n",
    "\n",
    "# (옵션) LLM 설정: LangChain이나 OpenAI API 사용. 초보자라면 더미로 시작.\n",
    "# from langchain_openai import ChatOpenAI\n",
    "# llm = ChatOpenAI(model=\"gpt-3.5-turbo\")\n",
    "\n",
    "def route_to_rag_or_handoff(state: GraphState) -> str:\n",
    "    \"\"\"\n",
    "    2차 라우터: 질문이 RAG로 처리 가능한지 판단.\n",
    "    - 반환값: \"rag\" (RAG 노드로) 또는 \"handoff\" (담당자 안내 노드로)\n",
    "    \"\"\"\n",
    "    question = state[\"question\"]  # state에서 정제된 질문 읽기\n",
    "    \n",
    "    # Level 1: 키워드 기반 판단 (초기 구현 추천)\n",
    "    handoff_keywords = [\"신청\", \"승인\", \"상담\", \"민원\", \"개인\", \"내\", \"나의\", \"결재\"]\n",
    "    if any(keyword in question for keyword in handoff_keywords):\n",
    "        print(f\"라우팅: RAG 불가능 (키워드: {handoff_keywords}) -> 담당자 안내\")\n",
    "        return \"handoff\"  # 그래프에서 'handoff' 엣지 이름으로 연결될 값\n",
    "    \n",
    "    # Level 2: LLM 기반 판단 (나중에 추가, LLM이 있으면)\n",
    "    # prompt = f\"이 HR 질문이 지식 기반(RAG)으로 답변 가능한가? 아니면 사람 상담이 필요한가? (rag/handoff로 답변): {question}\"\n",
    "    # decision = llm.invoke(prompt).content.strip().lower()\n",
    "    # if decision == \"handoff\":\n",
    "    #     print(\"라우팅: LLM 판단 -> 담당자 안내\")\n",
    "    #     return \"handoff\"\n",
    "    \n",
    "    # 기본: RAG 가능으로 가정\n",
    "    print(\"라우팅: RAG 가능 -> RAG 엔진\")\n",
    "    return \"rag\"  # 그래프에서 'rag' 엣지 이름으로 연결될 값\n",
    "\n",
    "# 테스트 코드 (단독 테스트용)\n",
    "if __name__ == \"__main__\":\n",
    "    mock_state = {\"question\": \"내 연봉 인상 신청 어떻게 해?\"}\n",
    "    print(route_to_rag_or_handoff(mock_state))  # 출력: \"handoff\""
   ]
  }
 ],
 "metadata": {
  "kernelspec": {
   "display_name": "venv",
   "language": "python",
   "name": "python3"
  },
  "language_info": {
   "name": "python",
   "version": "3.13.2"
  }
 },
 "nbformat": 4,
 "nbformat_minor": 5
}
