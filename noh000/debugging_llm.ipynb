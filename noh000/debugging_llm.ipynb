{
 "cells": [
  {
   "cell_type": "code",
   "execution_count": null,
   "id": "eb22bab4",
   "metadata": {},
   "outputs": [],
   "source": [
    "import os\n",
    "from langchain_openai import ChatOpenAI\n",
    "from dotenv import load_dotenv\n",
    "\n",
    "# .env 파일 로드\n",
    "load_dotenv()\n",
    "\n",
    "def get_llm(role: str = \"gen\") -> ChatOpenAI:\n",
    "    \"\"\"\n",
    "    노드별로 적합한 LLM 모델을 반환하는 팩토리 함수\n",
    "    \n",
    "    Args:\n",
    "        role (str): 역할별 모델 선택\n",
    "            - \"gen\": 본문 생성/분석\n",
    "            - \"router1\": 1차 라우터\n",
    "            - \"router2\": 2차 라우터 \n",
    "    \n",
    "    Returns:\n",
    "        ChatOpenAI: 설정된 LLM 인스턴스\n",
    "        \n",
    "    Environment Variables:\n",
    "        - OPENAI_API_KEY: OpenAI API 키 (필수)\n",
    "    \"\"\"\n",
    "    # API 키 확인\n",
    "    api_key = os.getenv(\"OPENAI_API_KEY\")\n",
    "    if not api_key:\n",
    "        raise ValueError(\"OPENAI_API_KEY가 환경변수에 설정되지 않았습니다.\")\n",
    "    \n",
    "    # 역할별 고정 모델 매핑 (실제 존재하는 OpenAI 모델)\n",
    "    model_map = {\n",
    "        \"gen\": os.getenv(\"GEN_LLM\", \"gpt-4.1\"),\n",
    "        \"router1\": os.getenv(\"ROUTER1_LLM\", \"gpt-4.1-mini\"),\n",
    "        \"router2\": os.getenv(\"ROUTER2_LLM\", \"gpt-4.1-nano\"),\n",
    "    }\n",
    "    \n",
    "    # 역할에 맞는 모델 선택 (기본값: gen)\n",
    "    model_name = model_map.get(role, model_map[\"gen\"])\n",
    "    \n",
    "    try:\n",
    "        return ChatOpenAI(\n",
    "            model=model_name,\n",
    "            temperature=0,  # 일관된 응답을 위해 0으로 설정\n",
    "            api_key=api_key\n",
    "        )\n",
    "    except Exception as e:\n",
    "        raise RuntimeError(f\"LLM 초기화 실패 (role: {role}, model: {model_name}): {str(e)}\")"
   ]
  },
  {
   "cell_type": "code",
   "execution_count": 2,
   "id": "d1424f3b",
   "metadata": {},
   "outputs": [
    {
     "name": "stdout",
     "output_type": "stream",
     "text": [
      "✅ 모든 LLM 인스턴스 생성 성공\n",
      "- 생성 모델: gpt-4.1\n",
      "- 라우터1 모델: gpt-4.1-mini\n",
      "- 라우터2 모델: gpt-4.1-nano\n"
     ]
    }
   ],
   "source": [
    "# 사용 예시 및 테스트\n",
    "if __name__ == \"__main__\":\n",
    "    try:\n",
    "        # 각 역할별 LLM 인스턴스 생성 테스트\n",
    "        gen_llm = get_llm(\"gen\")\n",
    "        router1_llm = get_llm(\"router1\")\n",
    "        router2_llm = get_llm(\"router2\")\n",
    "        \n",
    "        print(\"✅ 모든 LLM 인스턴스 생성 성공\")\n",
    "        print(f\"- 생성 모델: {gen_llm.model_name}\")\n",
    "        print(f\"- 라우터1 모델: {router1_llm.model_name}\")\n",
    "        print(f\"- 라우터2 모델: {router2_llm.model_name}\")\n",
    "        \n",
    "    except Exception as e:\n",
    "        print(f\"❌ LLM 초기화 실패: {e}\")"
   ]
  }
 ],
 "metadata": {
  "kernelspec": {
   "display_name": "venv (3.13.2)",
   "language": "python",
   "name": "python3"
  },
  "language_info": {
   "codemirror_mode": {
    "name": "ipython",
    "version": 3
   },
   "file_extension": ".py",
   "mimetype": "text/x-python",
   "name": "python",
   "nbconvert_exporter": "python",
   "pygments_lexer": "ipython3",
   "version": "3.13.2"
  }
 },
 "nbformat": 4,
 "nbformat_minor": 5
}
